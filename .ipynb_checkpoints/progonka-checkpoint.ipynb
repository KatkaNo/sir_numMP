{
 "cells": [
  {
   "cell_type": "code",
   "execution_count": null,
   "id": "e0446a7c-62c4-4aec-8c18-3fd2fd04439c",
   "metadata": {},
   "outputs": [],
   "source": [
    "import numpy as np"
   ]
  },
  {
   "cell_type": "code",
   "execution_count": null,
   "id": "15c58d15-11e8-4ead-b502-1e9d999153d0",
   "metadata": {},
   "outputs": [],
   "source": [
    "def tridiagonal_solve(A, B, C, F):\n",
    "    n = len(F)\n",
    "    # Прямой ход\n",
    "    for i in range(1, n):\n",
    "        m = A[i] / B[i-1]\n",
    "        B[i] -= m * C[i-1]\n",
    "        F[i] -= m * F[i-1]\n",
    "\n",
    "    # Обратный ход\n",
    "    u = np.zeros_like(F, dtype=float)\n",
    "    u[-1] = F[-1] / B[-1]\n",
    "\n",
    "    for i in range(n-2, -1, -1):\n",
    "        u[i] = (F[i] - C[i] * u[i+1]) / B[i]\n",
    "\n",
    "    return u"
   ]
  },
  {
   "cell_type": "code",
   "execution_count": null,
   "id": "1eb12653-9bc2-44a4-ac0f-0834c2495e67",
   "metadata": {},
   "outputs": [],
   "source": [
    "def solve_heat_equation_with_conditions(a, b, alpha, beta, k, q, f, A, B, C, D, n):\n",
    "    # Шаг сетки\n",
    "    h = (b - a) / (n + 1)\n",
    "\n",
    "    # Формируем диагональные элементы\n",
    "    x = np.linspace(a, b, n+2)\n",
    "    A_values = k(x[1:n+1]) / h**2\n",
    "    B_values = -k(x[1:n+1]) / h**2 - q(x[1:n+1])\n",
    "    C_values = k(x[2:n+2]) / h**2\n",
    "\n",
    "    # Формируем правую часть\n",
    "    F = -f(x[1:n+1])\n",
    "\n",
    "    # Применяем краевые условия\n",
    "    F[0] -= A * alpha\n",
    "    B_values[0] += A\n",
    "    F[-1] += D * beta\n",
    "    C_values[-1] -= D\n",
    "\n",
    "    # Решаем трехдиагональную систему уравнений методом прогонки\n",
    "    u = tridiagonal_solve(A_values, B_values, C_values, F)\n",
    "\n",
    "    # Добавляем краевые значения\n",
    "    u = np.concatenate(([alpha], u, [beta]))\n",
    "\n",
    "    return x, u"
   ]
  },
  {
   "cell_type": "code",
   "execution_count": null,
   "id": "faca1b66-cb0c-4e0b-8c54-b05142f2c53f",
   "metadata": {},
   "outputs": [],
   "source": [
    "a = 0.0\n",
    "b = 1.0\n",
    "alpha = 0.0\n",
    "beta = 1.0\n",
    "k = lambda x: 1.0  # Коэффициент теплопроводности\n",
    "q = lambda x: 0.0  # Коэффициент теплоотдачи\n",
    "f = lambda x: 0.0  # Источник тепла или теплопоглощения\n",
    "A = 2.0\n",
    "B = 100.0\n",
    "C = 3.0\n",
    "D = 1.0\n",
    "n = 5  # Количество узлов сетки"
   ]
  },
  {
   "cell_type": "code",
   "execution_count": null,
   "id": "a9b09fbd-d603-4741-813b-f2f1d1bc38a7",
   "metadata": {},
   "outputs": [],
   "source": [
    "x, u = solve_heat_equation_with_conditions(a, b, alpha, beta, k, q, f, A, B, C, D, n)"
   ]
  },
  {
   "cell_type": "code",
   "execution_count": null,
   "id": "f6a33941-3dcc-4ef8-bf6b-81b12ae7b8a3",
   "metadata": {},
   "outputs": [],
   "source": [
    "print(\"x:\", x)\n",
    "print(\"u:\", u)"
   ]
  }
 ],
 "metadata": {
  "kernelspec": {
   "display_name": "Python 3 (ipykernel)",
   "language": "python",
   "name": "python3"
  },
  "language_info": {
   "codemirror_mode": {
    "name": "ipython",
    "version": 3
   },
   "file_extension": ".py",
   "mimetype": "text/x-python",
   "name": "python",
   "nbconvert_exporter": "python",
   "pygments_lexer": "ipython3",
   "version": "3.10.10"
  }
 },
 "nbformat": 4,
 "nbformat_minor": 5
}
